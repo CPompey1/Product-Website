{
 "cells": [
  {
   "cell_type": "code",
   "execution_count": null,
   "id": "a14420a4-bc3e-4b61-b508-a36d16bd9a73",
   "metadata": {},
   "outputs": [],
   "source": [
    "from flask import Flask\n",
    "from flask import *\n",
    "from backend.util.ProductDatabase import ProductDatabase\n",
    "from bson.objectid import ObjectId"
   ]
  },
  {
   "cell_type": "code",
   "execution_count": 7,
   "id": "3396cc16-0ddc-4462-b32d-2fdf61de02d5",
   "metadata": {},
   "outputs": [],
   "source": [
    "class CustomResponse(Response):\n",
    "    def __init__():\n",
    "        super.init()\n",
    "        return()"
   ]
  },
  {
   "cell_type": "code",
   "execution_count": 16,
   "id": "615e6200-d2c4-4db0-8092-8871875665db",
   "metadata": {},
   "outputs": [
    {
     "name": "stdout",
     "output_type": "stream",
     "text": [
      "673e99736b3da39bc85cedd8\n",
      "[{'_id': ObjectId('673e99736b3da39bc85cedd8'), 'title': 'Honey', 'category': 'Consumables', 'store': \"Cris's Store\", 'cost': '5', 'description': 'Golden, rich, and pure, this honey is nature’s liquid gold. Harvested from the finest blossoms, it offers a delicate balance of sweetness and depth, perfect for drizzling over toast, adding to tea, or using in your favorite recipes. A true pantry staple.', 'image': 'honey.png'}]\n"
     ]
    }
   ],
   "source": [
    "### can we stringifiy ids and then still use it search db? yes we can - obama.\n",
    "\n",
    "#Get the first record\n",
    "db = ProductDatabase()\n",
    "record = db.get_collection('products').get_most_recent_record()\n",
    "idStr = str(record['_id'])\n",
    "print(idStr)\n",
    "print(db.get_collection('products').find_records_by_field({'_id':ObjectId(idStr)}))"
   ]
  }
 ],
 "metadata": {
  "kernelspec": {
   "display_name": "Python 3 (ipykernel)",
   "language": "python",
   "name": "python3"
  },
  "language_info": {
   "codemirror_mode": {
    "name": "ipython",
    "version": 3
   },
   "file_extension": ".py",
   "mimetype": "text/x-python",
   "name": "python",
   "nbconvert_exporter": "python",
   "pygments_lexer": "ipython3",
   "version": "3.10.12"
  }
 },
 "nbformat": 4,
 "nbformat_minor": 5
}
