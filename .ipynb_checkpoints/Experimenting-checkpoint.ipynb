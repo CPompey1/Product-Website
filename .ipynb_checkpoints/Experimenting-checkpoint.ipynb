{
 "cells": [
  {
   "cell_type": "code",
   "execution_count": 3,
   "id": "a14420a4-bc3e-4b61-b508-a36d16bd9a73",
   "metadata": {},
   "outputs": [],
   "source": [
    "from flask import Flask\n",
    "from flask import *"
   ]
  },
  {
   "cell_type": "code",
   "execution_count": 4,
   "id": "1eaf2acb-b3b0-49cc-a716-e5a047eba998",
   "metadata": {},
   "outputs": [
    {
     "data": {
      "text/plain": [
       "['__annotations__',\n",
       " '__call__',\n",
       " '__class__',\n",
       " '__delattr__',\n",
       " '__dict__',\n",
       " '__dir__',\n",
       " '__doc__',\n",
       " '__enter__',\n",
       " '__eq__',\n",
       " '__exit__',\n",
       " '__format__',\n",
       " '__ge__',\n",
       " '__getattribute__',\n",
       " '__gt__',\n",
       " '__hash__',\n",
       " '__init__',\n",
       " '__init_subclass__',\n",
       " '__le__',\n",
       " '__lt__',\n",
       " '__module__',\n",
       " '__ne__',\n",
       " '__new__',\n",
       " '__reduce__',\n",
       " '__reduce_ex__',\n",
       " '__repr__',\n",
       " '__setattr__',\n",
       " '__sizeof__',\n",
       " '__str__',\n",
       " '__subclasshook__',\n",
       " '__weakref__',\n",
       " '_clean_status',\n",
       " '_ensure_sequence',\n",
       " '_is_range_request_processable',\n",
       " '_process_range_request',\n",
       " '_wrap_range_response',\n",
       " 'accept_ranges',\n",
       " 'access_control_allow_credentials',\n",
       " 'access_control_allow_headers',\n",
       " 'access_control_allow_methods',\n",
       " 'access_control_allow_origin',\n",
       " 'access_control_expose_headers',\n",
       " 'access_control_max_age',\n",
       " 'add_etag',\n",
       " 'age',\n",
       " 'allow',\n",
       " 'autocorrect_location_header',\n",
       " 'automatically_set_content_length',\n",
       " 'cache_control',\n",
       " 'calculate_content_length',\n",
       " 'call_on_close',\n",
       " 'close',\n",
       " 'content_encoding',\n",
       " 'content_language',\n",
       " 'content_length',\n",
       " 'content_location',\n",
       " 'content_md5',\n",
       " 'content_range',\n",
       " 'content_security_policy',\n",
       " 'content_security_policy_report_only',\n",
       " 'content_type',\n",
       " 'cross_origin_embedder_policy',\n",
       " 'cross_origin_opener_policy',\n",
       " 'data',\n",
       " 'date',\n",
       " 'default_mimetype',\n",
       " 'default_status',\n",
       " 'delete_cookie',\n",
       " 'expires',\n",
       " 'force_type',\n",
       " 'freeze',\n",
       " 'from_app',\n",
       " 'get_app_iter',\n",
       " 'get_data',\n",
       " 'get_etag',\n",
       " 'get_json',\n",
       " 'get_wsgi_headers',\n",
       " 'get_wsgi_response',\n",
       " 'implicit_sequence_conversion',\n",
       " 'is_json',\n",
       " 'is_sequence',\n",
       " 'is_streamed',\n",
       " 'iter_encoded',\n",
       " 'json',\n",
       " 'json_module',\n",
       " 'last_modified',\n",
       " 'location',\n",
       " 'make_conditional',\n",
       " 'make_sequence',\n",
       " 'max_cookie_size',\n",
       " 'mimetype',\n",
       " 'mimetype_params',\n",
       " 'retry_after',\n",
       " 'set_cookie',\n",
       " 'set_data',\n",
       " 'set_etag',\n",
       " 'status',\n",
       " 'status_code',\n",
       " 'stream',\n",
       " 'vary',\n",
       " 'www_authenticate']"
      ]
     },
     "execution_count": 4,
     "metadata": {},
     "output_type": "execute_result"
    }
   ],
   "source": [
    "dir(Response)\n"
   ]
  },
  {
   "cell_type": "code",
   "execution_count": 5,
   "id": "3396cc16-0ddc-4462-b32d-2fdf61de02d5",
   "metadata": {},
   "outputs": [
    {
     "ename": "SyntaxError",
     "evalue": "invalid syntax (1973283605.py, line 1)",
     "output_type": "error",
     "traceback": [
      "\u001b[0;36m  Cell \u001b[0;32mIn[5], line 1\u001b[0;36m\u001b[0m\n\u001b[0;31m    class CustomResponse extends Response:\u001b[0m\n\u001b[0m                         ^\u001b[0m\n\u001b[0;31mSyntaxError\u001b[0m\u001b[0;31m:\u001b[0m invalid syntax\n"
     ]
    }
   ],
   "source": [
    "class CustomResponse(Response):\n",
    "    def __init__():\n",
    "        super.init()\n",
    "        return()\n",
    "\n"
   ]
  },
  {
   "cell_type": "code",
   "execution_count": null,
   "id": "2b945623-953b-4cc1-9ae6-78e1401b1d24",
   "metadata": {},
   "outputs": [],
   "source": []
  }
 ],
 "metadata": {
  "kernelspec": {
   "display_name": "Python 3 (ipykernel)",
   "language": "python",
   "name": "python3"
  },
  "language_info": {
   "codemirror_mode": {
    "name": "ipython",
    "version": 3
   },
   "file_extension": ".py",
   "mimetype": "text/x-python",
   "name": "python",
   "nbconvert_exporter": "python",
   "pygments_lexer": "ipython3",
   "version": "3.10.12"
  }
 },
 "nbformat": 4,
 "nbformat_minor": 5
}
